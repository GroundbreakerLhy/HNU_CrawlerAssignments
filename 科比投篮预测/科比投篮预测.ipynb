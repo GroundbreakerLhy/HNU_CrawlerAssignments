{
 "cells": [
  {
   "cell_type": "markdown",
   "metadata": {},
   "source": [
    "## 一、案例学习"
   ]
  },
  {
   "cell_type": "markdown",
   "metadata": {},
   "source": [
    "#### 任务描述\n",
    "完成科比投篮预测案例，即数据的特征处理与训练预测代码。在学习该实训之前，你需要学习pandas、numpy 以及 keras 等 python 库的使用方法。"
   ]
  },
  {
   "cell_type": "markdown",
   "metadata": {},
   "source": [
    "#### 相关知识\n",
    "\n",
    "\n",
    "##### 数据处理\n",
    "\n",
    "数据处理通常包含剔除无用特征，缺失值补全，合并特征，标准化等步骤，下面在代码中会具体介绍实现方法。"
   ]
  },
  {
   "cell_type": "markdown",
   "metadata": {},
   "source": [
    "####  1 数据集简介\n",
    "**数据来源**：\n",
    "\n",
    "数据来源于 kaggle，该数据集收集了科比近20年职业生涯中所尝试的每个投篮命中的位置和情况，其中包含了 30697 次投篮出手的数据，包含了 25 个特征属性，由于是篮球领域的数据，这里做一个简短的说明。\n",
    "   \n",
    "数据官方说明和介绍及下载：https://www.kaggle.com/c/kobe-bryant-shot-selection/data\n",
    "   \n",
    "在 kaggle 上该数据集的准确率最高也只有 60% 多。\n",
    "   \n",
    "数据特征属性有：\n",
    " - action_type 进攻方式（更具体）\n",
    " - combined_shot_type 进攻方式\n",
    " - game_event_id\n",
    " - game_id 比赛ID\n",
    " - lat 投篮点\n",
    " - loc_x 投篮点\n",
    " - loc_y 投篮点\n",
    " - lon 投篮点\n",
    " - minutes_remaining 单节剩余时间（分钟）\n",
    " - period 表示第几节\n",
    " - playoffs 是否是季后赛\n",
    " - season 赛季\n",
    " - seconds_remaining 剩余时间（秒）\n",
    " - shot_distance 投篮距离\n",
    " - shot_type 两分球或三分球\n",
    " - shot_zone_area 投篮区域\n",
    " - shot_zone_basic 投篮区域（更具体）\n",
    " - shot_zone_range 投篮范围\n",
    " - team_id 球队ID\n",
    " - team_name 球队名称\n",
    " - game_date 比赛日期\n",
    " - matchup 比赛双方\n",
    " - opponent 对手\n",
    " - shot_id 投篮ID\n",
    " \n",
    "标签：\n",
    " - shot_made_flag 是否进球\n",
    " \n",
    "这其中包含了一些不是那么重要的属性和无关的属性，这些将在数据预处理中进行剔除"
   ]
  },
  {
   "cell_type": "code",
   "execution_count": 1,
   "metadata": {},
   "outputs": [],
   "source": [
    "#### 载入数据\n",
    "import numpy as np\n",
    "import pandas as pd\n",
    "import matplotlib.pyplot as plt\n",
    "# /data/shixunfiles/21979737119eb4fafd62cae509c0c571_1602468291676.csv\n",
    "# 读入数据\n",
    "data = pd.read_csv(\"/data/shixunfiles/21979737119eb4fafd62cae509c0c571_1602468291676.csv\")\n",
    "#显示大小\n",
    "print(\"数据集大小:\",data.shape)\n",
    "# 数据集详细信息\n",
    "print(data.info())"
   ]
  },
  {
   "cell_type": "markdown",
   "metadata": {},
   "source": [
    "#### 1.1 数据分析\n",
    "数据分析是为了查看数据集中正负样本的比例或者各个类别的分布情况，以便训练时调整样本比例，防止训练出现过拟合或者欠拟合的现象。"
   ]
  },
  {
   "cell_type": "code",
   "execution_count": 2,
   "metadata": {},
   "outputs": [],
   "source": [
    "# 投中与未中的数量\n",
    "yes=0\n",
    "no=0\n",
    "for i in data[pd.notnull(data['shot_made_flag'])]['shot_made_flag']:\n",
    "    if i==1.0:\n",
    "        yes+=1\n",
    "    else:\n",
    "        no+=1\n",
    "\n",
    "plt.bar([0,1], [yes,no])\n",
    "plt.xticks([0,1])\n",
    "plt.show()\n",
    "\n",
    "print('命中次数：',yes)\n",
    "print('未命中次数：',no)"
   ]
  },
  {
   "cell_type": "markdown",
   "metadata": {},
   "source": [
    "### 2 数据清洗\n",
    "用于处理标签值缺失的一些数据，和剔除对预测不相关和不重要的特征属性\n",
    "\n",
    "#### 2.1 标签缺失数据处理\n",
    "\n"
   ]
  },
  {
   "cell_type": "code",
   "execution_count": 3,
   "metadata": {},
   "outputs": [],
   "source": [
    "#保留标签缺失值的数据\n",
    "data_no = data[pd.isnull(data['shot_made_flag'])]\n",
    "print(data_no.shape)"
   ]
  },
  {
   "cell_type": "code",
   "execution_count": 4,
   "metadata": {},
   "outputs": [],
   "source": [
    "#保留标签不为缺失值的数据\n",
    "data = data[pd.notnull(data['shot_made_flag'])]\n",
    "print(data.shape)"
   ]
  },
  {
   "cell_type": "markdown",
   "metadata": {},
   "source": [
    "#### 2.2 删除重复特征\n",
    "##### 2.2.1 坐标和经纬度特征重复\n",
    "通过对数据的分析，发现特征既有科比投篮的位置坐标loc_x,loc_y又有经度lat，纬度lon，猜测这两组特征重复\n",
    "\n",
    "画出坐标和经纬度的散点图以直观地查看两种数据的分布情况，判定这两组特征是否类似。\n",
    "\n",
    "通过比较，科比投篮的位置和经纬度这两组特征是类似的，保留一组特征即可。"
   ]
  },
  {
   "cell_type": "code",
   "execution_count": 5,
   "metadata": {},
   "outputs": [],
   "source": [
    "#分配画布大小\n",
    "plt.figure(figsize = (10,10))\n",
    "\n",
    "plt.subplot(1,2,1)\n",
    "#alpha为不透明度，loc_x，loc_y为科比投篮的位置\n",
    "plt.scatter(data.loc_x,data.loc_y,color ='g',alpha = 0.05)\n",
    "plt.title('loc_x and loc_y')\n",
    " \n",
    "plt.subplot(1,2,2)\n",
    "#lat为纬度，lon为经度\n",
    "plt.scatter(data.lon,data.lat,color ='b',alpha = 0.05)\n",
    "plt.title('lat and lon')\n",
    "\n",
    "plt.show()"
   ]
  },
  {
   "cell_type": "markdown",
   "metadata": {},
   "source": [
    "##### 2.2.2 分钟和秒特征重复\n",
    "分钟与秒特征重复\n",
    "原始特征中既有分钟又有秒，所以可以把这两组特征进行合并"
   ]
  },
  {
   "cell_type": "code",
   "execution_count": 6,
   "metadata": {},
   "outputs": [],
   "source": [
    "data['remain_time'] = data['minutes_remaining']*60 + data['seconds_remaining']\n",
    "data['remain_time'][:5]"
   ]
  },
  {
   "cell_type": "markdown",
   "metadata": {},
   "source": [
    "##### 2.2.3 三种投篮位置表示重复\n",
    "'shot_zone_basic'，'shot_zone_range','shot_zone_area'这三个特征为投篮位置的不同表示，比较一下\n",
    "\n",
    "画图分析，其形状与坐标位置差不多，所以选用更加准确的坐标来表示投篮位置"
   ]
  },
  {
   "cell_type": "code",
   "execution_count": 7,
   "metadata": {},
   "outputs": [],
   "source": [
    "import matplotlib.cm as cm\n",
    "plt.figure(figsize=(20,10))\n",
    " \n",
    "# data.groupyby(feature),是将数据根据feature里的类进行分类\n",
    "def scatterbygroupby(feature):\n",
    "    alpha = 0.1\n",
    "    gb = data.groupby(feature)\n",
    "    cl = cm.rainbow(np.linspace(0,1,len(gb)))\n",
    "    for g,c in zip(gb,cl):\n",
    "        plt.scatter(g[1].loc_x,g[1].loc_y,color = c,alpha = alpha)\n",
    "# 画图对比三种投篮位置\n",
    "plt.subplot(1,3,1)\n",
    "scatterbygroupby('shot_zone_basic')\n",
    "plt.title('shot_zone_basic')\n",
    " \n",
    "plt.subplot(1,3,2)\n",
    "scatterbygroupby('shot_zone_range')\n",
    "plt.title('shot_zone_range')\n",
    " \n",
    "plt.subplot(1,3,3)\n",
    "scatterbygroupby('shot_zone_area')\n",
    "plt.title('shot_zone_area')\n",
    "plt.show()"
   ]
  },
  {
   "cell_type": "markdown",
   "metadata": {},
   "source": [
    "#### 2.3 去掉没用的特征属性\n",
    "包括比赛 id，球队 id，team_name(科比只效力过洛杉矶湖人，所以可以删除)，其他的投篮位置的表示，分钟数，比赛时间等\n",
    "\n",
    "**剩余有用的特征**：\n",
    " - action_type  进攻方式（更具体）\n",
    " - combined_shot_type  进攻方式\n",
    " - loc_x  投篮点\n",
    " - loc_y  投篮点\n",
    " - period 表示第几节\n",
    " - playoffs 是否是季后赛\n",
    " - season 赛季\n",
    " - shot_type 两分球或三分球\n",
    " - opponent 对手\n",
    " - remain_time 剩余时间"
   ]
  },
  {
   "cell_type": "code",
   "execution_count": 8,
   "metadata": {},
   "outputs": [],
   "source": [
    "# 去掉如比赛id,投篮id等无关特征\n",
    "drops = ['combined_shot_type','shot_id', 'team_id', 'team_name', 'shot_zone_area', 'shot_zone_range', 'shot_zone_basic', \\\n",
    "         'matchup', 'lon', 'lat', 'seconds_remaining', 'minutes_remaining', \\\n",
    "         'shot_distance', 'game_event_id', 'game_id', 'game_date','season']\n",
    "for drop in drops:\n",
    "    data = data.drop(drop, 1)\n",
    "data.head()"
   ]
  },
  {
   "cell_type": "markdown",
   "metadata": {},
   "source": [
    "### 3 特征处理\n",
    "\n",
    "#### 3.1 将文字特征转换为数字特征\n",
    "由于机器学习的模型只能处理数字类型的数据，我们需要将数据集中的文字特征转化为数字特征，此处使用one-hot编码来实现。one-hot编码相对于标签编码而言可以减少训练的误差。one-hot编码将类别编码成二进制形式，有多少类别就有多少bit位，例如有类别：男，女，使用one-hot的编码的结果就是00，01每个类别占用一个比特位，使得数据更加稀疏了。"
   ]
  },
  {
   "cell_type": "code",
   "execution_count": 9,
   "metadata": {},
   "outputs": [],
   "source": [
    "a = ['action_type', 'shot_type', 'opponent']\n",
    "for i in a:\n",
    "    #使用one-hot编码，将a中的特征里的属性值都当作新的特征附在数据的列上，特征名为前缀prefix加上该属性名\n",
    "    data = pd.concat([data, pd.get_dummies(data[i], prefix=i)], 1)\n",
    "    data = data.drop(i, 1) #0-行，1-列\n",
    "data.head()"
   ]
  },
  {
   "cell_type": "markdown",
   "metadata": {},
   "source": [
    "#### 3.2 保存一下处理后的数据"
   ]
  },
  {
   "cell_type": "code",
   "execution_count": 10,
   "metadata": {},
   "outputs": [],
   "source": [
    "data.to_csv(\"./data_processed.csv\", encoding=\"utf-8-sig\", mode=\"w\", header=True, index=False)\n",
    "data = pd.read_csv(\"data_processed.csv\")\n",
    "data_label = data['shot_made_flag']"
   ]
  },
  {
   "cell_type": "code",
   "execution_count": 11,
   "metadata": {},
   "outputs": [],
   "source": [
    "#读入数据\n",
    "data = pd.read_csv(\"data_processed.csv\")\n",
    "#显示大小\n",
    "print(\"数据集大小:\",data.shape)\n",
    "# 数据集详细信息\n",
    "print(data.info())"
   ]
  },
  {
   "cell_type": "markdown",
   "metadata": {},
   "source": [
    "#### 3.3 分离特征和标签\n",
    "分离特征和标签是为了之后训练模型时,让数据处理更加方便。"
   ]
  },
  {
   "cell_type": "code",
   "execution_count": 12,
   "metadata": {},
   "outputs": [],
   "source": [
    "data_feature = data.drop('shot_made_flag',1)\n",
    "data_label = data['shot_made_flag']\n",
    "data_label.shape"
   ]
  },
  {
   "cell_type": "code",
   "execution_count": 13,
   "metadata": {},
   "outputs": [],
   "source": [
    "data_label = np.array(data_label)\n",
    "data_label.shape"
   ]
  },
  {
   "cell_type": "markdown",
   "metadata": {},
   "source": [
    "#### 3.4 数据标准化\n",
    "由于各个特征之间存在很大的量纲上的差异，所以先进行标准化，我们使用sklearn的工具包实现数据的标准化。\n",
    "\n",
    "fit_transform(X,y=None,**fit_params): 通过fit_params调整数据X,y得到一个调整后的X\n"
   ]
  },
  {
   "cell_type": "code",
   "execution_count": 14,
   "metadata": {},
   "outputs": [],
   "source": [
    "#### 对data_feature进行数据标准化"
   ]
  },
  {
   "cell_type": "code",
   "execution_count": 15,
   "metadata": {},
   "outputs": [],
   "source": [
    "#### 上述cell的答案\n",
    "from sklearn.preprocessing import StandardScaler\n",
    "scaler = StandardScaler()\n",
    "data_feature = scaler.fit_transform(data_feature)"
   ]
  },
  {
   "cell_type": "code",
   "execution_count": 16,
   "metadata": {},
   "outputs": [],
   "source": [
    "data_feature = pd.DataFrame(data_feature)\n",
    "data_feature.head()"
   ]
  },
  {
   "cell_type": "code",
   "execution_count": 17,
   "metadata": {},
   "outputs": [],
   "source": [
    "data_feature.to_csv(\"./data_feature_standard.csv\", encoding=\"utf-8-sig\", mode=\"w\", header=True, index=False)\n",
    "data_feature = pd.read_csv(\"data_feature_standard.csv\")"
   ]
  },
  {
   "cell_type": "code",
   "execution_count": 18,
   "metadata": {},
   "outputs": [],
   "source": [
    "#### 载入数据和标签\n",
    "knn_data = data_feature\n",
    "knn_label = data_label"
   ]
  },
  {
   "cell_type": "markdown",
   "metadata": {},
   "source": [
    "### 4 构建训练（train）和测试数据(test)\n",
    "\n",
    "为了对模型进行训练和测试，我们需要将原始数据分为训练集和测试集，这里我们采用sklearn的库函数实现数据集的拆分，该函数如下所示：\n",
    "```\n",
    "X_train,X_test, y_train, y_test =sklearn.model_selection.train_test_split(train_data,train_target,test_size=0.4,random_state=0,stratify=y_train)\n",
    "```\n",
    "其中各个参数如下所示：\n",
    "- train_data：所要划分的样本特征集\n",
    "\n",
    "- train_target：所要划分的样本结果\n",
    "\n",
    "- test_size：样本占比，如果是整数的话就是样本的数量\n",
    "\n",
    "- random_state：是随机数的种子。随机数种子其实就是该组随机数的编号，在需要重复试验的时候，保证得到一组一样的随机数。比如你每次都填1，其他参数一样的情况下你得到的随机数组是一样的。但填0或不填，每次都会不一样。\n",
    "\n",
    "- stratify是为了保持split前类的分布。比如有100个数据，80个属于A类，20个属于B类。如果train_test_split(... test_size=0.25, stratify = y_all), 那么split之后数据如下： training: 75个数据，其中60个属于A类，15个属于B类。 testing: 25个数据，其中20个属于A类，5个属于B类。 用了stratify参数，training集和testing集的类的比例是 A：B= 4：1，等同于split前的比例（80：20）。通常在这种类分布不平衡的情况下会用到stratify。将stratify=X就是按照X中的比例分配。 将stratify=y就是按照y中的比例分配。 "
   ]
  },
  {
   "cell_type": "code",
   "execution_count": 19,
   "metadata": {},
   "outputs": [],
   "source": [
    "from sklearn.model_selection import train_test_split\n",
    "X_train, X_test, y_train, y_test = train_test_split(knn_data,knn_label, random_state=2020, test_size=0.25)"
   ]
  },
  {
   "cell_type": "markdown",
   "metadata": {},
   "source": [
    "### 5 构建和训练模型\n",
    "\n",
    "我们采用sklearn库的KNeighborsClassifier实现KNN模型，模型调用方法如下：\n",
    "```\n",
    "from sklearn.neighbors import KNeighborsClassifier\n",
    "KNeighborsClassifier(n_neighbors=5, weights='uniform', algorithm='auto', leaf_size=30,p=2, metric=’minkowski’, metric_params=None, n_jobs=1)\n",
    "```\n",
    "参数说明如下：\n",
    "\n",
    "- n_neighbors：是用来确定多数投票规则里的K值，也就是在点的周围选取K个值最为总体范围\n",
    "- weights : 在进行分类判断的时候给最近邻的点加上权重，它的默认值是'uniform',也就是等权重，所以在这种情况下我们就可以使用多数投票规则来判断输入实例的类别预测。还有一个选择是'distance',是按照距离的倒数给定权重。在这种情况下，距离输入实例最近点的类别情况比其他点类别情况更具有说服力。\n",
    "- algorithm 是分类时采取的算法，有 {‘auto’, ‘ball_tree’, ‘kd_tree’, ‘brute’}，一般情况下选择auto就可以，它会自动进行选择最合适的算法。\n",
    "- p:在机器学习系列中，我们知道p=1时，距离方法定义为曼哈顿距离，在p=2的时候我们定为欧几里得距离。默认值为2。\n",
    "- metric:用于树的距离矩阵，默认为minkowski\n",
    "\n",
    "\n",
    "该模型的参数如下：\n",
    "\n",
    "- fit(X, y):X作为训练数据，y作为标签数据进行模型训练。\n",
    "- score(X, y):返回给定测试数据以及标签的准确率均值。"
   ]
  },
  {
   "cell_type": "code",
   "execution_count": 20,
   "metadata": {},
   "outputs": [],
   "source": [
    "from sklearn.neighbors import KNeighborsClassifier\n",
    "knn = KNeighborsClassifier(n_neighbors=3)\n",
    "knn.fit(X_train, y_train)"
   ]
  },
  {
   "cell_type": "code",
   "execution_count": 21,
   "metadata": {},
   "outputs": [],
   "source": [
    "score = knn.score(X_train, y_train)\n",
    "print('训练数据集的准确率：{:.3}%'.format(score*100))\n",
    "score = knn.score(X_test, y_test)\n",
    "print('测试数据集的准确率：{:.3}%'.format(score*100))"
   ]
  },
  {
   "cell_type": "markdown",
   "metadata": {},
   "source": [
    "### 6 模型调优\n",
    "我们通过尝试使用KNN算法不同的K值进行模型训练，并利用sklearn库的cross_val_score函数观察不同K值的训练结果，该函数调用方法如下\n",
    "```\n",
    "sklearn.cross_validation.cross_val_score(estimator, X, y=None, scoring=None, cv=None, n_jobs=1, verbose=0, fit_params=None, pre_dispatch=‘2*n_jobs’)\n",
    "```\n",
    "返回交叉验证每次运行的评分数组。\n",
    "参数如下：\n",
    "\n",
    "- estimator：数据对象\n",
    "- X：数据\n",
    "- y：预测数据\n",
    "- soring：调用的方法\n",
    "- cv：交叉验证生成器或可迭代的次数\n",
    "- n_jobs：同时工作的cpu个数（-1代表全部）\n",
    "- verbose：详细程度\n",
    "- fit_params：传递给估计器的拟合方法的参数\n",
    "- pre_dispatch：控制并行执行期间调度的作业数量。减少这个数量对于避免在CPU发送更多作业时CPU内存消耗的扩大是有用的。该参数可以是：\n"
   ]
  },
  {
   "cell_type": "code",
   "execution_count": 22,
   "metadata": {
    "scrolled": true
   },
   "outputs": [],
   "source": [
    "# 运行时间较长，请耐心等待\n",
    "# 交叉验证\n",
    "from sklearn.model_selection import cross_val_score\n",
    "from time import time\n",
    "import datetime\n",
    "k_range = range(1,21,2)\n",
    "cv_scores = []\n",
    "time0 = time()\n",
    "# 遍历1到21的分类数，得到每个分类数下的分数\n",
    "for n in k_range:\n",
    "    print(n)\n",
    "    knn = KNeighborsClassifier(n_neighbors=n)\n",
    "    scores = cross_val_score(knn,X_train,y_train,cv=10,scoring='accuracy')\n",
    "    cv_scores.append(scores.mean())\n",
    "print('计算所用时长：%s' % (datetime.datetime.fromtimestamp(time()-time0).strftime(\"%M:%S:%f\")))\n",
    "print('最高准确率:',max(cv_scores),',对应的k值为:',k_range[cv_scores.index(max(cv_scores))])\n",
    "plt.plot(k_range,cv_scores)\n",
    "plt.xlabel('K')\n",
    "plt.ylabel('Accuracy')\n",
    "plt.show()"
   ]
  },
  {
   "cell_type": "markdown",
   "metadata": {},
   "source": [
    "由上图观察可知在17到21区间模型的准确度较高，我们继续选定参数范围为[17,23]进行训练调试。"
   ]
  },
  {
   "cell_type": "code",
   "execution_count": 23,
   "metadata": {},
   "outputs": [],
   "source": [
    "# 进一步\n",
    "k_range = range(17,23,2)\n",
    "cv_scores = []\n",
    "time0 = time()\n",
    "for n in k_range:\n",
    "    print(n)\n",
    "    knn = KNeighborsClassifier(n_neighbors=n)\n",
    "    scores = cross_val_score(knn,X_train,y_train,cv=10,scoring='accuracy')\n",
    "    cv_scores.append(scores.mean())\n",
    "print('计算所用时长：%s' % (datetime.datetime.fromtimestamp(time()-time0).strftime(\"%M:%S:%f\")))\n",
    "print('最高准确率:',max(cv_scores),',对应的k值为:',k_range[cv_scores.index(max(cv_scores))])\n",
    "plt.plot(k_range,cv_scores)\n",
    "plt.xlabel('K')\n",
    "plt.ylabel('Accuracy')\n",
    "plt.show()"
   ]
  },
  {
   "cell_type": "markdown",
   "metadata": {},
   "source": [
    "可知模型最好的参数K值为19。"
   ]
  },
  {
   "cell_type": "markdown",
   "metadata": {},
   "source": [
    "### 7 模型评估\n",
    "#### 7.1 ROC\n",
    "ROC的全名叫做Receiver Operating Characteristic，其主要分析工具是一个画在二维平面上的曲线——ROC 曲线。平面的横坐标是false positive rate(FPR)，纵坐标是true positive rate(TPR)。对某个分类器而言，我们可以根据其在测试样本上的表现得到一个TPR和FPR点对。这样，此分类器就可以映射成ROC平面上的一个点。调整这个分类器分类时候使用的阈值，我们就可以得到一个经过(0, 0)，(1, 1)的曲线，这就是此分类器的ROC曲线。一般情况下，这个曲线都应该处于(0, 0)和(1, 1)连线的上方。因为(0, 0)和(1, 1)连线形成的ROC曲线实际上代表的是一个随机分类器。如果很不幸，你得到一个位于此直线下方的分类器的话，一个直观的补救办法就是把所有的预测结果反向，即：分类器输出结果为正类，则最终分类的结果为负类，反之，则为正类。\n",
    "\n",
    "真正（True Positive , TP）被模型预测为正的正样本；\n",
    "假负（False Negative , FN）被模型预测为负的正样本；\n",
    "假正（False Positive , FP）被模型预测为正的负样本；\n",
    "真负（True Negative , TN）被模型预测为负的负样本。\n",
    "\n",
    "真正例率（Ture positive rare），TPR=TP/(TP+FN）ROC曲线的纵轴；\n",
    "假正例率（False positive rare），FPR=FP/(TN+FP) ROC曲线的横轴\n",
    "\n",
    "#### 7.2 AUC\n",
    "AUC的值就是处于ROC 曲线下方的那部分面积的大小。通常，AUC的值介于0.5到1.0之间，较大的AUC代表了较好的性能。AUC（Area Under roc Curve）是一种用来度量分类模型好坏的一个标准。\n",
    "\n",
    "#### 7.3 混肴矩阵\n",
    "**目的**：\n",
    "评估分类器准确性\n",
    "\n",
    "**函数**：\n",
    "```\n",
    "sklearn.metrics.confusion_matrix(y_true, y_pred, labels=None, sample_weight=None)\n",
    "```\n",
    "**输入**：\n",
    "\n",
    "- y_true:实际的目标结果\n",
    "- y_pred:预测的结果\n",
    "- labels: 标签，对结果中的string进行排序， 顺序对应0、1、2\n",
    "- sample_weight:样本的权重\n",
    "\n",
    "**输出**：\n",
    "一个矩阵，shape=[y中的类型数，y中的类型数]\n",
    "\n",
    "矩阵中每个值表征分类的准确性:\n",
    "\n",
    "第0行第0列的数表示y_true中值为0，y_pred中值也为0的个数\n",
    "\n",
    "第0行第1列的数表示y_true中值为0，y_pred中值为1的个数"
   ]
  },
  {
   "cell_type": "code",
   "execution_count": 24,
   "metadata": {},
   "outputs": [],
   "source": [
    "# 测试集评估\n",
    "knn = KNeighborsClassifier(n_neighbors=19)\n",
    "knn.fit(X_train, y_train)\n",
    "score = knn.score(X_train, y_train)\n",
    "print('训练数据集的准确率：{:.3}%'.format(score*100))\n",
    "score = knn.score(X_test, y_test)\n",
    "print('测试数据集的准确率：{:.3}%'.format(score*100))"
   ]
  },
  {
   "cell_type": "code",
   "execution_count": 25,
   "metadata": {},
   "outputs": [],
   "source": [
    "# ROC\n",
    "from sklearn.metrics import roc_curve, auc, roc_auc_score\n",
    "from sklearn.preprocessing import label_binarize\n",
    "# y_test_hot = label_binarize(y_test, classes=(0, 1))\n",
    "knn_y_score = knn.predict_proba(X_test)\n",
    "knn_fpr, knn_tpr, _ = roc_curve(y_test,knn_y_score[:,1], pos_label=1)\n",
    "plt.plot(knn_fpr, knn_tpr,\n",
    "         label='micro-average ROC curve',\n",
    "         color='g', linewidth=4)\n",
    "plt.plot([0, 1], [0, 1], 'k--', lw=2,c='r')\n",
    "plt.title('knn roc')\n",
    "plt.show()"
   ]
  },
  {
   "cell_type": "code",
   "execution_count": 26,
   "metadata": {},
   "outputs": [],
   "source": [
    "# AUC\n",
    "knn_auc = auc(knn_fpr, knn_tpr)\n",
    "knn_auc"
   ]
  },
  {
   "cell_type": "markdown",
   "metadata": {},
   "source": [
    "由于传统的机器学习方法精确度有限，我们尝试使用神经网络进行训练，看看神经网络的模型训练结果。"
   ]
  },
  {
   "cell_type": "markdown",
   "metadata": {},
   "source": [
    "### 6 神经网络"
   ]
  },
  {
   "cell_type": "code",
   "execution_count": 27,
   "metadata": {},
   "outputs": [],
   "source": [
    "cnn_data = np.asarray(data_feature)\n",
    "cnn_label = np.asarray(data_label)\n",
    "cnn_data.shape\n",
    "x_train = cnn_data[:20000]\n",
    "y_train = cnn_label[:20000]\n",
    "x_test = cnn_data[20000:]\n",
    "y_test = cnn_label[20000:]"
   ]
  },
  {
   "cell_type": "code",
   "execution_count": 28,
   "metadata": {},
   "outputs": [],
   "source": [
    "from keras import models\n",
    "from keras import layers\n",
    "model = models.Sequential()\n",
    "## 输入层，激活函数为relu\n",
    "model.add(layers.Dense(16,activation='relu',input_shape=(95,)))\n",
    "## 中间层，激活函数为relu\n",
    "model.add(layers.Dense(16,activation='relu'))\n",
    "## 输出层，维数为1\n",
    "model.add(layers.Dense(1,activation='sigmoid'))\n",
    "model.summary()\n",
    "model.compile(optimizer = 'rmsprop',\n",
    "             loss='binary_crossentropy',\n",
    "             metrics=['accuracy'])\n",
    "x_val = x_train[:7000]\n",
    "partial_x_train = x_train[7000:]\n",
    "\n",
    "y_val = y_train[:7000]\n",
    "partial_y_train = y_train[7000:]\n",
    "history = model.fit(partial_x_train,\n",
    "                    partial_y_train,\n",
    "                    epochs=20,\n",
    "                    batch_size=512,\n",
    "         validation_data=(x_val,y_val))\n",
    "history_dict = history.history\n",
    "history_dict.keys()\n",
    "results = model.evaluate(x_test,y_test)\n",
    "results"
   ]
  },
  {
   "cell_type": "markdown",
   "metadata": {},
   "source": [
    "#### 6.1 模型调优\n",
    "我们查看历史不同的迭代次数下训练以及验证集的损失函数，以及不同迭代次数下，训练集与测试集的准确率，来查看迭代次数对模型的影响。"
   ]
  },
  {
   "cell_type": "code",
   "execution_count": 29,
   "metadata": {},
   "outputs": [],
   "source": [
    "## 损失值\n",
    "loss_values = history_dict['loss']\n",
    "val_loss_values = history_dict['val_loss']\n",
    "## 迭代次数\n",
    "epochs = range(1,len(loss_values)+1)\n",
    "plt.plot(epochs,loss_values,'bo',label='Training loss')\n",
    "plt.plot(epochs,val_loss_values,'b',label='Validation loss')\n",
    "plt.title('Trian and Validation loss')\n",
    "plt.xlabel('Epochs')\n",
    "plt.ylabel('Loss')\n",
    "plt.legend()\n",
    "plt.show()\n",
    "\n",
    "acc = history_dict['acc']\n",
    "val_acc = history_dict['val_acc']\n",
    "plt.plot(epochs,acc,'bo',label='Training acc')\n",
    "plt.plot(epochs,val_acc,'b',label='Validation acc')\n",
    "plt.title('Trian and Validation acc')\n",
    "plt.xlabel('Epochs')\n",
    "plt.ylabel('acc')\n",
    "plt.legend()\n",
    "plt.show()"
   ]
  },
  {
   "cell_type": "markdown",
   "metadata": {},
   "source": [
    "我们通过遍历输入层以及中间层不同层数，尝试不同迭代次数，将最优解参数放入best_param数组中。"
   ]
  },
  {
   "cell_type": "code",
   "execution_count": 30,
   "metadata": {},
   "outputs": [],
   "source": [
    "# nums1 = [16,32,64]\n",
    "# nums2 = [16,32,64]\n",
    "# epochs = [7,8,9,10,11,12,13,14,15,16,17,18,19,20,21,22,23,24,25,26,27,28,29,30]\n",
    "# 由于上述3行代码运行时间过长，为了减少运行时间，我们将最优参数标出如下3行，\n",
    "# 若同学学有余力可取消注释进行完整训练。\n",
    "nums1 = [32]\n",
    "nums2 = [32]\n",
    "epochs = [10]\n",
    "\n",
    "best_result = 0\n",
    "best_param = []\n",
    "## 设置中间层不同的节点数，不同的迭代次数取最好的训练结果参数\n",
    "for num1 in nums1:\n",
    "    for num2 in nums2:\n",
    "        for epoch in epochs:\n",
    "            model = models.Sequential()\n",
    "            model.add(layers.Dense(num1,activation='relu',input_shape=(95,)))\n",
    "            model.add(layers.Dense(num2,activation='relu'))\n",
    "            model.add(layers.Dense(1,activation='sigmoid'))\n",
    "\n",
    "            model.compile(optimizer = 'rmsprop',\n",
    "                         loss='binary_crossentropy',\n",
    "                         metrics=['accuracy'])\n",
    "\n",
    "            history = model.fit(x_train,y_train,epochs=epoch,batch_size=512)\n",
    "\n",
    "            results = model.evaluate(x_test,y_test)\n",
    "            if best_result<results[1]:\n",
    "                best_result = results[1]\n",
    "                best_param = []\n",
    "                best_param.append(num1)\n",
    "                best_param.append(num2)\n",
    "                best_param.append(epoch)"
   ]
  },
  {
   "cell_type": "code",
   "execution_count": 31,
   "metadata": {},
   "outputs": [],
   "source": [
    "print('最高的准确率：',best_result)\n",
    "print('最好的参数：',best_param)\n",
    "model = models.Sequential()\n",
    "model.add(layers.Dense(16,activation='relu',input_shape=(95,)))\n",
    "model.add(layers.Dense(32,activation='relu'))\n",
    "model.add(layers.Dense(1,activation='sigmoid'))\n",
    "model.compile(optimizer = 'rmsprop',\n",
    "            loss='binary_crossentropy',\n",
    "            metrics=['accuracy'])\n",
    "history = model.fit(x_train,y_train,epochs=14,batch_size=512)\n",
    "results = model.evaluate(x_test,y_test)\n",
    "results\n",
    "\n",
    "model.save('cnn_model.h5')\n",
    "# 载入\n",
    "from keras.models import load_model\n",
    "model = load_model('cnn_model.h5')  "
   ]
  },
  {
   "cell_type": "markdown",
   "metadata": {},
   "source": [
    "#### 6.1 模型评估\n",
    "模型评估的方法如上。"
   ]
  },
  {
   "cell_type": "code",
   "execution_count": 32,
   "metadata": {},
   "outputs": [],
   "source": [
    "# 绘制混淆矩阵\n",
    "from sklearn.metrics import confusion_matrix\n",
    "y_pred = model.predict(x_test)\n",
    "y_pred = y_pred.reshape(-1)\n",
    "for i,pred in enumerate(y_pred):\n",
    "    if pred>0.5:\n",
    "        y_pred[i]=1.0\n",
    "    else:\n",
    "        y_pred[i]=0.0\n",
    "print(y_pred.shape)\n",
    "print(y_test.shape)\n",
    "\n",
    "# ROC\n",
    "from sklearn.metrics import confusion_matrix\n",
    "from sklearn.metrics import roc_curve, auc, roc_auc_score\n",
    "model_y_score = model.predict_proba(x_test)\n",
    "model_y_score = model_y_score.reshape(-1)\n",
    "model_fpr, model_tpr, _ = roc_curve(y_test,model_y_score, pos_label=1)\n",
    "plt.plot(model_fpr, model_tpr,\n",
    "         label='micro-average ROC curve',\n",
    "         color='g', linewidth=4)\n",
    "plt.plot([0, 1], [0, 1], 'k--', lw=2,c='r')\n",
    "plt.title('model roc')\n",
    "plt.show()\n",
    "\n",
    "# AUC\n",
    "model_auc = auc(model_fpr, model_tpr)\n",
    "model_auc"
   ]
  },
  {
   "cell_type": "markdown",
   "metadata": {},
   "source": [
    "# 代码来自Groundbreaker \n",
    "# 想联系我的话花点心思不难找到我的联系方式\n",
    "# 如果今年题目变了代码用不了了，可以在Github上找到我，我会尽快更新代码"
   ]
  },
  {
   "cell_type": "markdown",
   "metadata": {},
   "source": [
    "## 二、案例练习"
   ]
  },
  {
   "cell_type": "markdown",
   "metadata": {},
   "source": [
    "根据上述学习内容，完成以下练习：\n",
    "\n",
    "### 分析泰坦尼克号人群生存情况\n",
    "\n",
    "数据集路径如下：\n",
    "\n",
    "训练数据：/data/shixunfiles/2309cc5f04782ed9bb6016d9f4e381cf_1607607386535.csv\n",
    "\n",
    "测试数据：/data/shixunfiles/7533b82eae4b582610cbd68aa636b017_1607607386511.csv"
   ]
  },
  {
   "cell_type": "markdown",
   "metadata": {},
   "source": [
    "**练习内容如下**"
   ]
  },
  {
   "cell_type": "markdown",
   "metadata": {},
   "source": [
    "#### 1.导入训练测试数据，将数据合并并查看数据基本信息"
   ]
  },
  {
   "cell_type": "code",
   "execution_count": 2,
   "metadata": {},
   "outputs": [
    {
     "data": {
      "text/html": [
       "<div>\n",
       "<style scoped>\n",
       "    .dataframe tbody tr th:only-of-type {\n",
       "        vertical-align: middle;\n",
       "    }\n",
       "\n",
       "    .dataframe tbody tr th {\n",
       "        vertical-align: top;\n",
       "    }\n",
       "\n",
       "    .dataframe thead th {\n",
       "        text-align: right;\n",
       "    }\n",
       "</style>\n",
       "<table border=\"1\" class=\"dataframe\">\n",
       "  <thead>\n",
       "    <tr style=\"text-align: right;\">\n",
       "      <th></th>\n",
       "      <th>Age</th>\n",
       "      <th>Cabin</th>\n",
       "      <th>Embarked</th>\n",
       "      <th>Fare</th>\n",
       "      <th>Name</th>\n",
       "      <th>Parch</th>\n",
       "      <th>PassengerId</th>\n",
       "      <th>Pclass</th>\n",
       "      <th>Sex</th>\n",
       "      <th>SibSp</th>\n",
       "      <th>Survived</th>\n",
       "      <th>Ticket</th>\n",
       "    </tr>\n",
       "  </thead>\n",
       "  <tbody>\n",
       "    <tr>\n",
       "      <th>0</th>\n",
       "      <td>22.0</td>\n",
       "      <td>NaN</td>\n",
       "      <td>S</td>\n",
       "      <td>7.2500</td>\n",
       "      <td>Braund, Mr. Owen Harris</td>\n",
       "      <td>0</td>\n",
       "      <td>1</td>\n",
       "      <td>3</td>\n",
       "      <td>male</td>\n",
       "      <td>1</td>\n",
       "      <td>0.0</td>\n",
       "      <td>A/5 21171</td>\n",
       "    </tr>\n",
       "    <tr>\n",
       "      <th>1</th>\n",
       "      <td>38.0</td>\n",
       "      <td>C85</td>\n",
       "      <td>C</td>\n",
       "      <td>71.2833</td>\n",
       "      <td>Cumings, Mrs. John Bradley (Florence Briggs Th...</td>\n",
       "      <td>0</td>\n",
       "      <td>2</td>\n",
       "      <td>1</td>\n",
       "      <td>female</td>\n",
       "      <td>1</td>\n",
       "      <td>1.0</td>\n",
       "      <td>PC 17599</td>\n",
       "    </tr>\n",
       "    <tr>\n",
       "      <th>2</th>\n",
       "      <td>26.0</td>\n",
       "      <td>NaN</td>\n",
       "      <td>S</td>\n",
       "      <td>7.9250</td>\n",
       "      <td>Heikkinen, Miss. Laina</td>\n",
       "      <td>0</td>\n",
       "      <td>3</td>\n",
       "      <td>3</td>\n",
       "      <td>female</td>\n",
       "      <td>0</td>\n",
       "      <td>1.0</td>\n",
       "      <td>STON/O2. 3101282</td>\n",
       "    </tr>\n",
       "    <tr>\n",
       "      <th>3</th>\n",
       "      <td>35.0</td>\n",
       "      <td>C123</td>\n",
       "      <td>S</td>\n",
       "      <td>53.1000</td>\n",
       "      <td>Futrelle, Mrs. Jacques Heath (Lily May Peel)</td>\n",
       "      <td>0</td>\n",
       "      <td>4</td>\n",
       "      <td>1</td>\n",
       "      <td>female</td>\n",
       "      <td>1</td>\n",
       "      <td>1.0</td>\n",
       "      <td>113803</td>\n",
       "    </tr>\n",
       "    <tr>\n",
       "      <th>4</th>\n",
       "      <td>35.0</td>\n",
       "      <td>NaN</td>\n",
       "      <td>S</td>\n",
       "      <td>8.0500</td>\n",
       "      <td>Allen, Mr. William Henry</td>\n",
       "      <td>0</td>\n",
       "      <td>5</td>\n",
       "      <td>3</td>\n",
       "      <td>male</td>\n",
       "      <td>0</td>\n",
       "      <td>0.0</td>\n",
       "      <td>373450</td>\n",
       "    </tr>\n",
       "    <tr>\n",
       "      <th>...</th>\n",
       "      <td>...</td>\n",
       "      <td>...</td>\n",
       "      <td>...</td>\n",
       "      <td>...</td>\n",
       "      <td>...</td>\n",
       "      <td>...</td>\n",
       "      <td>...</td>\n",
       "      <td>...</td>\n",
       "      <td>...</td>\n",
       "      <td>...</td>\n",
       "      <td>...</td>\n",
       "      <td>...</td>\n",
       "    </tr>\n",
       "    <tr>\n",
       "      <th>413</th>\n",
       "      <td>NaN</td>\n",
       "      <td>NaN</td>\n",
       "      <td>S</td>\n",
       "      <td>8.0500</td>\n",
       "      <td>Spector, Mr. Woolf</td>\n",
       "      <td>0</td>\n",
       "      <td>1305</td>\n",
       "      <td>3</td>\n",
       "      <td>male</td>\n",
       "      <td>0</td>\n",
       "      <td>NaN</td>\n",
       "      <td>A.5. 3236</td>\n",
       "    </tr>\n",
       "    <tr>\n",
       "      <th>414</th>\n",
       "      <td>39.0</td>\n",
       "      <td>C105</td>\n",
       "      <td>C</td>\n",
       "      <td>108.9000</td>\n",
       "      <td>Oliva y Ocana, Dona. Fermina</td>\n",
       "      <td>0</td>\n",
       "      <td>1306</td>\n",
       "      <td>1</td>\n",
       "      <td>female</td>\n",
       "      <td>0</td>\n",
       "      <td>NaN</td>\n",
       "      <td>PC 17758</td>\n",
       "    </tr>\n",
       "    <tr>\n",
       "      <th>415</th>\n",
       "      <td>38.5</td>\n",
       "      <td>NaN</td>\n",
       "      <td>S</td>\n",
       "      <td>7.2500</td>\n",
       "      <td>Saether, Mr. Simon Sivertsen</td>\n",
       "      <td>0</td>\n",
       "      <td>1307</td>\n",
       "      <td>3</td>\n",
       "      <td>male</td>\n",
       "      <td>0</td>\n",
       "      <td>NaN</td>\n",
       "      <td>SOTON/O.Q. 3101262</td>\n",
       "    </tr>\n",
       "    <tr>\n",
       "      <th>416</th>\n",
       "      <td>NaN</td>\n",
       "      <td>NaN</td>\n",
       "      <td>S</td>\n",
       "      <td>8.0500</td>\n",
       "      <td>Ware, Mr. Frederick</td>\n",
       "      <td>0</td>\n",
       "      <td>1308</td>\n",
       "      <td>3</td>\n",
       "      <td>male</td>\n",
       "      <td>0</td>\n",
       "      <td>NaN</td>\n",
       "      <td>359309</td>\n",
       "    </tr>\n",
       "    <tr>\n",
       "      <th>417</th>\n",
       "      <td>NaN</td>\n",
       "      <td>NaN</td>\n",
       "      <td>C</td>\n",
       "      <td>22.3583</td>\n",
       "      <td>Peter, Master. Michael J</td>\n",
       "      <td>1</td>\n",
       "      <td>1309</td>\n",
       "      <td>3</td>\n",
       "      <td>male</td>\n",
       "      <td>1</td>\n",
       "      <td>NaN</td>\n",
       "      <td>2668</td>\n",
       "    </tr>\n",
       "  </tbody>\n",
       "</table>\n",
       "<p>1309 rows × 12 columns</p>\n",
       "</div>"
      ],
      "text/plain": [
       "      Age Cabin Embarked      Fare  \\\n",
       "0    22.0   NaN        S    7.2500   \n",
       "1    38.0   C85        C   71.2833   \n",
       "2    26.0   NaN        S    7.9250   \n",
       "3    35.0  C123        S   53.1000   \n",
       "4    35.0   NaN        S    8.0500   \n",
       "..    ...   ...      ...       ...   \n",
       "413   NaN   NaN        S    8.0500   \n",
       "414  39.0  C105        C  108.9000   \n",
       "415  38.5   NaN        S    7.2500   \n",
       "416   NaN   NaN        S    8.0500   \n",
       "417   NaN   NaN        C   22.3583   \n",
       "\n",
       "                                                  Name  Parch  PassengerId  \\\n",
       "0                              Braund, Mr. Owen Harris      0            1   \n",
       "1    Cumings, Mrs. John Bradley (Florence Briggs Th...      0            2   \n",
       "2                               Heikkinen, Miss. Laina      0            3   \n",
       "3         Futrelle, Mrs. Jacques Heath (Lily May Peel)      0            4   \n",
       "4                             Allen, Mr. William Henry      0            5   \n",
       "..                                                 ...    ...          ...   \n",
       "413                                 Spector, Mr. Woolf      0         1305   \n",
       "414                       Oliva y Ocana, Dona. Fermina      0         1306   \n",
       "415                       Saether, Mr. Simon Sivertsen      0         1307   \n",
       "416                                Ware, Mr. Frederick      0         1308   \n",
       "417                           Peter, Master. Michael J      1         1309   \n",
       "\n",
       "     Pclass     Sex  SibSp  Survived              Ticket  \n",
       "0         3    male      1       0.0           A/5 21171  \n",
       "1         1  female      1       1.0            PC 17599  \n",
       "2         3  female      0       1.0    STON/O2. 3101282  \n",
       "3         1  female      1       1.0              113803  \n",
       "4         3    male      0       0.0              373450  \n",
       "..      ...     ...    ...       ...                 ...  \n",
       "413       3    male      0       NaN           A.5. 3236  \n",
       "414       1  female      0       NaN            PC 17758  \n",
       "415       3    male      0       NaN  SOTON/O.Q. 3101262  \n",
       "416       3    male      0       NaN              359309  \n",
       "417       3    male      1       NaN                2668  \n",
       "\n",
       "[1309 rows x 12 columns]"
      ]
     },
     "execution_count": 2,
     "metadata": {},
     "output_type": "execute_result"
    }
   ],
   "source": [
    "import warnings\n",
    "warnings.filterwarnings(\"ignore\")\n",
    "\n",
    "import pandas as pd\n",
    "test = pd.read_csv('/data/shixunfiles/2309cc5f04782ed9bb6016d9f4e381cf_1607607386535.csv')\n",
    "train = pd.read_csv('/data/shixunfiles/7533b82eae4b582610cbd68aa636b017_1607607386511.csv')\n",
    "df = pd.concat([test, train])\n",
    "df"
   ]
  },
  {
   "cell_type": "markdown",
   "metadata": {},
   "source": [
    "#### 2.查看数据前10行数据"
   ]
  },
  {
   "cell_type": "code",
   "execution_count": 3,
   "metadata": {},
   "outputs": [
    {
     "data": {
      "text/html": [
       "<div>\n",
       "<style scoped>\n",
       "    .dataframe tbody tr th:only-of-type {\n",
       "        vertical-align: middle;\n",
       "    }\n",
       "\n",
       "    .dataframe tbody tr th {\n",
       "        vertical-align: top;\n",
       "    }\n",
       "\n",
       "    .dataframe thead th {\n",
       "        text-align: right;\n",
       "    }\n",
       "</style>\n",
       "<table border=\"1\" class=\"dataframe\">\n",
       "  <thead>\n",
       "    <tr style=\"text-align: right;\">\n",
       "      <th></th>\n",
       "      <th>Age</th>\n",
       "      <th>Cabin</th>\n",
       "      <th>Embarked</th>\n",
       "      <th>Fare</th>\n",
       "      <th>Name</th>\n",
       "      <th>Parch</th>\n",
       "      <th>PassengerId</th>\n",
       "      <th>Pclass</th>\n",
       "      <th>Sex</th>\n",
       "      <th>SibSp</th>\n",
       "      <th>Survived</th>\n",
       "      <th>Ticket</th>\n",
       "    </tr>\n",
       "  </thead>\n",
       "  <tbody>\n",
       "    <tr>\n",
       "      <th>0</th>\n",
       "      <td>22.0</td>\n",
       "      <td>NaN</td>\n",
       "      <td>S</td>\n",
       "      <td>7.2500</td>\n",
       "      <td>Braund, Mr. Owen Harris</td>\n",
       "      <td>0</td>\n",
       "      <td>1</td>\n",
       "      <td>3</td>\n",
       "      <td>male</td>\n",
       "      <td>1</td>\n",
       "      <td>0.0</td>\n",
       "      <td>A/5 21171</td>\n",
       "    </tr>\n",
       "    <tr>\n",
       "      <th>1</th>\n",
       "      <td>38.0</td>\n",
       "      <td>C85</td>\n",
       "      <td>C</td>\n",
       "      <td>71.2833</td>\n",
       "      <td>Cumings, Mrs. John Bradley (Florence Briggs Th...</td>\n",
       "      <td>0</td>\n",
       "      <td>2</td>\n",
       "      <td>1</td>\n",
       "      <td>female</td>\n",
       "      <td>1</td>\n",
       "      <td>1.0</td>\n",
       "      <td>PC 17599</td>\n",
       "    </tr>\n",
       "    <tr>\n",
       "      <th>2</th>\n",
       "      <td>26.0</td>\n",
       "      <td>NaN</td>\n",
       "      <td>S</td>\n",
       "      <td>7.9250</td>\n",
       "      <td>Heikkinen, Miss. Laina</td>\n",
       "      <td>0</td>\n",
       "      <td>3</td>\n",
       "      <td>3</td>\n",
       "      <td>female</td>\n",
       "      <td>0</td>\n",
       "      <td>1.0</td>\n",
       "      <td>STON/O2. 3101282</td>\n",
       "    </tr>\n",
       "    <tr>\n",
       "      <th>3</th>\n",
       "      <td>35.0</td>\n",
       "      <td>C123</td>\n",
       "      <td>S</td>\n",
       "      <td>53.1000</td>\n",
       "      <td>Futrelle, Mrs. Jacques Heath (Lily May Peel)</td>\n",
       "      <td>0</td>\n",
       "      <td>4</td>\n",
       "      <td>1</td>\n",
       "      <td>female</td>\n",
       "      <td>1</td>\n",
       "      <td>1.0</td>\n",
       "      <td>113803</td>\n",
       "    </tr>\n",
       "    <tr>\n",
       "      <th>4</th>\n",
       "      <td>35.0</td>\n",
       "      <td>NaN</td>\n",
       "      <td>S</td>\n",
       "      <td>8.0500</td>\n",
       "      <td>Allen, Mr. William Henry</td>\n",
       "      <td>0</td>\n",
       "      <td>5</td>\n",
       "      <td>3</td>\n",
       "      <td>male</td>\n",
       "      <td>0</td>\n",
       "      <td>0.0</td>\n",
       "      <td>373450</td>\n",
       "    </tr>\n",
       "    <tr>\n",
       "      <th>5</th>\n",
       "      <td>NaN</td>\n",
       "      <td>NaN</td>\n",
       "      <td>Q</td>\n",
       "      <td>8.4583</td>\n",
       "      <td>Moran, Mr. James</td>\n",
       "      <td>0</td>\n",
       "      <td>6</td>\n",
       "      <td>3</td>\n",
       "      <td>male</td>\n",
       "      <td>0</td>\n",
       "      <td>0.0</td>\n",
       "      <td>330877</td>\n",
       "    </tr>\n",
       "    <tr>\n",
       "      <th>6</th>\n",
       "      <td>54.0</td>\n",
       "      <td>E46</td>\n",
       "      <td>S</td>\n",
       "      <td>51.8625</td>\n",
       "      <td>McCarthy, Mr. Timothy J</td>\n",
       "      <td>0</td>\n",
       "      <td>7</td>\n",
       "      <td>1</td>\n",
       "      <td>male</td>\n",
       "      <td>0</td>\n",
       "      <td>0.0</td>\n",
       "      <td>17463</td>\n",
       "    </tr>\n",
       "    <tr>\n",
       "      <th>7</th>\n",
       "      <td>2.0</td>\n",
       "      <td>NaN</td>\n",
       "      <td>S</td>\n",
       "      <td>21.0750</td>\n",
       "      <td>Palsson, Master. Gosta Leonard</td>\n",
       "      <td>1</td>\n",
       "      <td>8</td>\n",
       "      <td>3</td>\n",
       "      <td>male</td>\n",
       "      <td>3</td>\n",
       "      <td>0.0</td>\n",
       "      <td>349909</td>\n",
       "    </tr>\n",
       "    <tr>\n",
       "      <th>8</th>\n",
       "      <td>27.0</td>\n",
       "      <td>NaN</td>\n",
       "      <td>S</td>\n",
       "      <td>11.1333</td>\n",
       "      <td>Johnson, Mrs. Oscar W (Elisabeth Vilhelmina Berg)</td>\n",
       "      <td>2</td>\n",
       "      <td>9</td>\n",
       "      <td>3</td>\n",
       "      <td>female</td>\n",
       "      <td>0</td>\n",
       "      <td>1.0</td>\n",
       "      <td>347742</td>\n",
       "    </tr>\n",
       "    <tr>\n",
       "      <th>9</th>\n",
       "      <td>14.0</td>\n",
       "      <td>NaN</td>\n",
       "      <td>C</td>\n",
       "      <td>30.0708</td>\n",
       "      <td>Nasser, Mrs. Nicholas (Adele Achem)</td>\n",
       "      <td>0</td>\n",
       "      <td>10</td>\n",
       "      <td>2</td>\n",
       "      <td>female</td>\n",
       "      <td>1</td>\n",
       "      <td>1.0</td>\n",
       "      <td>237736</td>\n",
       "    </tr>\n",
       "  </tbody>\n",
       "</table>\n",
       "</div>"
      ],
      "text/plain": [
       "    Age Cabin Embarked     Fare  \\\n",
       "0  22.0   NaN        S   7.2500   \n",
       "1  38.0   C85        C  71.2833   \n",
       "2  26.0   NaN        S   7.9250   \n",
       "3  35.0  C123        S  53.1000   \n",
       "4  35.0   NaN        S   8.0500   \n",
       "5   NaN   NaN        Q   8.4583   \n",
       "6  54.0   E46        S  51.8625   \n",
       "7   2.0   NaN        S  21.0750   \n",
       "8  27.0   NaN        S  11.1333   \n",
       "9  14.0   NaN        C  30.0708   \n",
       "\n",
       "                                                Name  Parch  PassengerId  \\\n",
       "0                            Braund, Mr. Owen Harris      0            1   \n",
       "1  Cumings, Mrs. John Bradley (Florence Briggs Th...      0            2   \n",
       "2                             Heikkinen, Miss. Laina      0            3   \n",
       "3       Futrelle, Mrs. Jacques Heath (Lily May Peel)      0            4   \n",
       "4                           Allen, Mr. William Henry      0            5   \n",
       "5                                   Moran, Mr. James      0            6   \n",
       "6                            McCarthy, Mr. Timothy J      0            7   \n",
       "7                     Palsson, Master. Gosta Leonard      1            8   \n",
       "8  Johnson, Mrs. Oscar W (Elisabeth Vilhelmina Berg)      2            9   \n",
       "9                Nasser, Mrs. Nicholas (Adele Achem)      0           10   \n",
       "\n",
       "   Pclass     Sex  SibSp  Survived            Ticket  \n",
       "0       3    male      1       0.0         A/5 21171  \n",
       "1       1  female      1       1.0          PC 17599  \n",
       "2       3  female      0       1.0  STON/O2. 3101282  \n",
       "3       1  female      1       1.0            113803  \n",
       "4       3    male      0       0.0            373450  \n",
       "5       3    male      0       0.0            330877  \n",
       "6       1    male      0       0.0             17463  \n",
       "7       3    male      3       0.0            349909  \n",
       "8       3  female      0       1.0            347742  \n",
       "9       2  female      1       1.0            237736  "
      ]
     },
     "execution_count": 3,
     "metadata": {},
     "output_type": "execute_result"
    }
   ],
   "source": [
    "df.head(10)"
   ]
  },
  {
   "cell_type": "markdown",
   "metadata": {},
   "source": [
    "#### 3.显示男性与女性乘客生存比例并进行柱状图可视化"
   ]
  },
  {
   "cell_type": "code",
   "execution_count": 48,
   "metadata": {},
   "outputs": [
    {
     "data": {
      "image/png": "[encoded data removed]",
      "text/plain": [
       "<Figure size 576x432 with 1 Axes>"
      ]
     },
     "metadata": {},
     "output_type": "display_data"
    }
   ],
   "source": [
    "import collections\n",
    "import matplotlib.pyplot as plt\n",
    "import seaborn as sns\n",
    "\n",
    "\n",
    "# 使用DataFrame来更方便地与seaborn配合\n",
    "survived_sex = df[df['Survived'] == 1]['Sex'].value_counts().reset_index()\n",
    "survived_sex.columns = ['Sex', 'Count']\n",
    "\n",
    "# 设置seaborn样式\n",
    "sns.set(style=\"whitegrid\")\n",
    "\n",
    "# 创建图表\n",
    "plt.figure(figsize=(8, 6))\n",
    "\n",
    "# 绘制柱状图\n",
    "sns.barplot(x=\"Sex\", y=\"Count\", data=survived_sex, palette=\"husl\")\n",
    "\n",
    "# 添加标题和轴标签\n",
    "plt.title(\"Sex distribution of survivors\", fontsize=16)\n",
    "plt.xlabel(\"Sex\", fontsize=14)\n",
    "plt.ylabel(\"Number of survivors\", fontsize=14)\n",
    "\n",
    "# 显示图表\n",
    "plt.show()"
   ]
  },
  {
   "cell_type": "markdown",
   "metadata": {},
   "source": [
    "#### 4.显示不同客舱乘客生存比例并进行柱状图可视化"
   ]
  },
  {
   "cell_type": "code",
   "execution_count": 49,
   "metadata": {},
   "outputs": [
    {
     "data": {
      "image/png": "[encoded data removed]",
      "text/plain": [
       "<Figure size 576x432 with 1 Axes>"
      ]
     },
     "metadata": {},
     "output_type": "display_data"
    }
   ],
   "source": [
    "data_df = pd.DataFrame(list(data.items()), columns=['Pclass', 'Survived'])\n",
    "\n",
    "sns.set_style(\"ticks\")\n",
    "\n",
    "plt.figure(figsize=(8, 6))\n",
    "\n",
    "sns.barplot(x='Pclass', y='Survived', data=data_df, palette='coolwarm', edgecolor='black')\n",
    "\n",
    "# 添加标题和轴标签\n",
    "plt.title(\"Number of survivors in each passenger level\", fontsize=16)\n",
    "plt.xlabel(\"Passenger level\", fontsize=14)\n",
    "plt.ylabel(\"Number of survivors\", fontsize=14)\n",
    "\n",
    "# 优化显示\n",
    "plt.xticks(rotation=45)  # 如果乘客等级是字符串，可能需要旋转标签以提高可读性\n",
    "plt.tight_layout()  # 自动调整子图参数, 使之填充整个图像区域\n",
    "\n",
    "# 显示图表\n",
    "plt.show()"
   ]
  }
 ],
 "metadata": {
  "kernelspec": {
   "display_name": "Python 3",
   "language": "python",
   "name": "python3"
  },
  "language_info": {
   "codemirror_mode": {
    "name": "ipython",
    "version": 3
   },
   "file_extension": ".py",
   "mimetype": "text/x-python",
   "name": "python",
   "nbconvert_exporter": "python",
   "pygments_lexer": "ipython3",
   "version": "3.10.14"
  }
 },
 "nbformat": 4,
 "nbformat_minor": 2
}
