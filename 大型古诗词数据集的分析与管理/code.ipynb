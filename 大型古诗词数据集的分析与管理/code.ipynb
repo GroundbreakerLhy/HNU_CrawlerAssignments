{
 "cells": [
  {
   "cell_type": "markdown",
   "metadata": {},
   "source": [
    "# 二、案例练习"
   ]
  },
  {
   "cell_type": "markdown",
   "metadata": {},
   "source": [
    "根据上述案例学习内容，完成以下练习："
   ]
  },
  {
   "cell_type": "markdown",
   "metadata": {},
   "source": [
    "### 对唐代诗词进行分析处理"
   ]
  },
  {
   "cell_type": "markdown",
   "metadata": {},
   "source": [
    "#### 练习内容如下："
   ]
  },
  {
   "cell_type": "markdown",
   "metadata": {},
   "source": [
    "数据集路径如下：/data/shixunfiles/54efe04023cbc923b7feabbac5583f90_1607394157288.csv"
   ]
  },
  {
   "cell_type": "markdown",
   "metadata": {},
   "source": [
    "# 代码来自Groundbreaker \n",
    "# 想联系我的话花点心思不难找到我的联系方式\n",
    "# 如果今年题目变了代码用不了了，可以在Github上找到我，我会尽快更新代码"
   ]
  },
  {
   "cell_type": "markdown",
   "metadata": {},
   "source": [
    "**1.导入数据集并查看数据集前10行数据**"
   ]
  },
  {
   "cell_type": "code",
   "execution_count": 1,
   "metadata": {},
   "outputs": [
    {
     "name": "stdout",
     "output_type": "stream",
     "text": [
      "   序号         题目 朝代    作者                                              内容\n",
      "0   1       忆先秦娥  唐   冯延巳  风淅淅。夜雨连云黑。滴滴。窗外芭蕉灯下客。除非魂梦到乡国。免被关山隔。忆忆。一句枕前争忘得。\n",
      "1   2         送兄  唐  七岁女子                        别路云初起，离亭叶正飞。所嗟人异雁，不作一行归。\n",
      "2   3         再赠  唐  上元夫人                弄玉有夫皆得道，刘纲兼室尽登仙。君能仔细窥朝露，须逐云车拜洞天。\n",
      "3   4         留别  唐  上元夫人                萧郎不顾凤楼人，云涩回车泪脸新。愁想蓬瀛归去路，难窥旧苑碧桃春。\n",
      "4   5        赠封陟  唐  上元夫人                谪居蓬岛别瑶池，春媚烟花有所思。为爱君心能洁白，愿操箕帚奉屏帏。\n",
      "5   6          句  唐    久则                                湖上青山今欲买，白云无主问何人。\n",
      "6   7      千叶石榴花  唐    子兰                一朵花开千叶红，开时又不藉春风。若教移在香闺畔，定与佳人艳态同。\n",
      "7   8  太平坊寻裴郎中故宅  唐    子兰                不语凄凉无限情，荒阶行尽又重行。昔年住此何人在，满地槐花秋草生。\n",
      "8   9       长安伤春  唐    子兰                霜陨中春花半无，狂游恣饮尽凶徒。年年赏玩公卿辈，今委沟塍骨渐枯。\n",
      "9  10       长安早秋  唐    子兰                风舞槐花落御沟，终南山色入城秋。门门走马徵兵急，公子笙歌醉玉楼。\n"
     ]
    }
   ],
   "source": [
    "import pandas as pd\n",
    "data_path = \"/data/shixunfiles/54efe04023cbc923b7feabbac5583f90_1607394157288.csv\"\n",
    "data = pd.read_csv(data_path)\n",
    "print(data[0:10])"
   ]
  },
  {
   "cell_type": "markdown",
   "metadata": {},
   "source": [
    "**2.显示超过200首诗歌的唐代诗人并对诗人的诗词数量进行饼图可视化**"
   ]
  },
  {
   "cell_type": "code",
   "execution_count": 1,
   "metadata": {
    "collapsed": true
   },
   "outputs": [
    {
     "ename": "NameError",
     "evalue": "name 'data' is not defined",
     "output_type": "error",
     "traceback": [
      "\u001b[1;31m---------------------------------------------------------------------------\u001b[0m",
      "\u001b[1;31mNameError\u001b[0m                                 Traceback (most recent call last)",
      "Cell \u001b[1;32mIn[1], line 13\u001b[0m\n\u001b[0;32m     10\u001b[0m plt\u001b[38;5;241m.\u001b[39mrcParams[\u001b[38;5;124m'\u001b[39m\u001b[38;5;124maxes.unicode_minus\u001b[39m\u001b[38;5;124m'\u001b[39m] \u001b[38;5;241m=\u001b[39m \u001b[38;5;28;01mFalse\u001b[39;00m\n\u001b[0;32m     12\u001b[0m \u001b[38;5;66;03m# 使用Counter统计诗人及其诗歌数量\u001b[39;00m\n\u001b[1;32m---> 13\u001b[0m poets_counter \u001b[38;5;241m=\u001b[39m Counter(item[\u001b[38;5;241m3\u001b[39m] \u001b[38;5;28;01mfor\u001b[39;00m item \u001b[38;5;129;01min\u001b[39;00m \u001b[43mdata\u001b[49m\u001b[38;5;241m.\u001b[39mvalues)\n\u001b[0;32m     15\u001b[0m \u001b[38;5;66;03m# 筛选出超过200首诗的诗人\u001b[39;00m\n\u001b[0;32m     16\u001b[0m poets_with20_poems \u001b[38;5;241m=\u001b[39m {poet: count \u001b[38;5;28;01mfor\u001b[39;00m poet, count \u001b[38;5;129;01min\u001b[39;00m poets_counter\u001b[38;5;241m.\u001b[39mitems() \u001b[38;5;28;01mif\u001b[39;00m count \u001b[38;5;241m>\u001b[39m \u001b[38;5;241m200\u001b[39m}\n",
      "\u001b[1;31mNameError\u001b[0m: name 'data' is not defined"
     ]
    }
   ],
   "source": [
    "from collections import Counter\n",
    "import matplotlib.pyplot as plt\n",
    "import seaborn as sns\n",
    "\n",
    "# 设置 seaborn 风格\n",
    "sns.set(style=\"whitegrid\")\n",
    "\n",
    "# 支持中文和负号显示\n",
    "plt.rcParams['font.sans-serif'] = ['SimHei']\n",
    "plt.rcParams['axes.unicode_minus'] = False\n",
    "\n",
    "# 使用Counter统计诗人及其诗歌数量\n",
    "poets_counter = Counter(item[3] for item in data.values)\n",
    "\n",
    "# 筛选出超过200首诗的诗人\n",
    "poets_with20_poems = {poet: count for poet, count in poets_counter.items() if count > 200}\n",
    "\n",
    "# 绘制饼图\n",
    "plt.figure(figsize=(10, 10))\n",
    "plt.pie(poets_with20_poems.values(), labels=poets_with20_poems.keys(), autopct=autopct_format(poets_with20_poems.values()), startangle=140, colors=sns.color_palette(\"coolwarm\", len(poets_with20_poems)))\n",
    "\n",
    "# 设置标题和字体大小\n",
    "plt.title('超过200首诗歌的唐代诗人', fontsize=20)\n",
    "\n",
    "# 显示图表\n",
    "plt.show()"
   ]
  },
  {
   "cell_type": "markdown",
   "metadata": {},
   "source": [
    "**3.在该数据集中查询杜甫的《望岳》这首诗并显示**"
   ]
  },
  {
   "cell_type": "code",
   "execution_count": null,
   "metadata": {},
   "outputs": [
    {
     "name": "stdout",
     "output_type": "stream",
     "text": [
      "          序号  题目 朝代  作者                                                 内容\n",
      "27558  27559  望岳  唐  杜甫   岱宗夫如何，齐鲁青未了。造化钟神秀，阴阳割昏晓。荡胸生曾云，决眦入归鸟。会当凌绝顶，一览众山小。\n",
      "27559  27560  望岳  唐  杜甫  南岳配朱鸟，秩礼自百王。歘吸领地灵，鸿洞半炎方。邦家用祀典，在德非馨香。巡守何寂寥，有虞今则...\n",
      "27560  27561  望岳  唐  杜甫  西岳崚嶒竦处尊，诸峰罗立如儿孙。安得仙人九节杖，拄到玉女洗头盆。车箱入谷无归路，箭栝通天有一...\n"
     ]
    }
   ],
   "source": [
    "print(data[data['题目'] == '望岳'])"
   ]
  },
  {
   "cell_type": "markdown",
   "metadata": {},
   "source": [
    "**4.删除数据集中“序号”这一列**"
   ]
  },
  {
   "cell_type": "code",
   "execution_count": null,
   "metadata": {},
   "outputs": [
    {
     "name": "stdout",
     "output_type": "stream",
     "text": [
      "                                               内容\n",
      "0  风淅淅。夜雨连云黑。滴滴。窗外芭蕉灯下客。除非魂梦到乡国。免被关山隔。忆忆。一句枕前争忘得。\n",
      "1                        别路云初起，离亭叶正飞。所嗟人异雁，不作一行归。\n",
      "2                弄玉有夫皆得道，刘纲兼室尽登仙。君能仔细窥朝露，须逐云车拜洞天。\n",
      "3                萧郎不顾凤楼人，云涩回车泪脸新。愁想蓬瀛归去路，难窥旧苑碧桃春。\n",
      "4                谪居蓬岛别瑶池，春媚烟花有所思。为爱君心能洁白，愿操箕帚奉屏帏。\n",
      "5                                湖上青山今欲买，白云无主问何人。\n",
      "6                一朵花开千叶红，开时又不藉春风。若教移在香闺畔，定与佳人艳态同。\n",
      "7                不语凄凉无限情，荒阶行尽又重行。昔年住此何人在，满地槐花秋草生。\n",
      "8                霜陨中春花半无，狂游恣饮尽凶徒。年年赏玩公卿辈，今委沟塍骨渐枯。\n",
      "9                风舞槐花落御沟，终南山色入城秋。门门走马徵兵急，公子笙歌醉玉楼。\n"
     ]
    }
   ],
   "source": [
    "data.drop(data.columns[0], axis=1, inplace=True)\n",
    "print(data[0:10])"
   ]
  }
 ],
 "metadata": {
  "kernelspec": {
   "display_name": "Python 3",
   "language": "python",
   "name": "python3"
  },
  "language_info": {
   "codemirror_mode": {
    "name": "ipython",
    "version": 3
   },
   "file_extension": ".py",
   "mimetype": "text/x-python",
   "name": "python",
   "nbconvert_exporter": "python",
   "pygments_lexer": "ipython3",
   "version": "3.10.14"
  }
 },
 "nbformat": 4,
 "nbformat_minor": 2
}
